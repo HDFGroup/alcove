{
 "cells": [
  {
   "cell_type": "markdown",
   "metadata": {},
   "source": [
    "![Public Domain Lisp Logo Set By Conrad Barski, M.D.](http://www.lisperati.com/lisplogo_fancy_128.png)"
   ]
  },
  {
   "cell_type": "code",
   "execution_count": null,
   "metadata": {
    "collapsed": false
   },
   "outputs": [],
   "source": [
    "(require 'asdf)"
   ]
  },
  {
   "cell_type": "code",
   "execution_count": null,
   "metadata": {
    "collapsed": false
   },
   "outputs": [],
   "source": [
    "(require 'hdf5-cffi)"
   ]
  },
  {
   "cell_type": "code",
   "execution_count": null,
   "metadata": {
    "collapsed": false
   },
   "outputs": [],
   "source": [
    "(use-package \"HDF5\")"
   ]
  },
  {
   "cell_type": "code",
   "execution_count": null,
   "metadata": {
    "collapsed": false
   },
   "outputs": [],
   "source": [
    "(require 'alcove)"
   ]
  },
  {
   "cell_type": "code",
   "execution_count": null,
   "metadata": {
    "collapsed": false
   },
   "outputs": [],
   "source": [
    "(use-package \"ALCOVE\")"
   ]
  },
  {
   "cell_type": "code",
   "execution_count": null,
   "metadata": {
    "collapsed": false
   },
   "outputs": [],
   "source": [
    "(defparameter *file-name* \"superblock.h5\")"
   ]
  },
  {
   "cell_type": "markdown",
   "metadata": {},
   "source": [
    "We can use the Lisp [Common Foreign Function Interface](https://common-lisp.net/project/cffi/) (CFFI) to call the HDF5 library and create an \"empty\" HDF5 file."
   ]
  },
  {
   "cell_type": "code",
   "execution_count": null,
   "metadata": {
    "collapsed": false
   },
   "outputs": [],
   "source": [
    "(let ((fcpl (h5pcreate +H5P-FILE-CREATE+)))\n",
    "     (h5fclose (h5fcreate *file-name* +H5F-ACC-TRUNC+ +H5P-DEFAULT+ +H5P-DEFAULT+))  ; create and close the file\n",
    "     (h5pclose fcpl))"
   ]
  },
  {
   "cell_type": "markdown",
   "metadata": {},
   "source": [
    "We use Lisp's [``OPEN``](http://clhs.lisp.se/Body/f_open.htm) function to create a file stream that is connected to the HDF5 file."
   ]
  },
  {
   "cell_type": "code",
   "execution_count": null,
   "metadata": {
    "collapsed": false
   },
   "outputs": [],
   "source": [
    "(defparameter *input-stream*\n",
    "    (open *file-name* :direction :input :element-type '(unsigned-byte 8)))"
   ]
  },
  {
   "cell_type": "markdown",
   "metadata": {},
   "source": [
    "For the moment we assume that the superblock is located at the beginning of the HDF5 file. (We'll discuss so-called user blocks in the next installment.) We use the function ``READ-SUPERBLOCK`` to read the HDF5 file's superblock and return it in the form of an [association list](http://clhs.lisp.se/Body/26_glo_a.htm#association_list) (\"a list of key/value pairs\"). "
   ]
  },
  {
   "cell_type": "code",
   "execution_count": null,
   "metadata": {
    "collapsed": false
   },
   "outputs": [],
   "source": [
    "(documentation 'read-superblock 'function)"
   ]
  },
  {
   "cell_type": "code",
   "execution_count": null,
   "metadata": {
    "collapsed": false
   },
   "outputs": [],
   "source": [
    "(read-superblock *input-stream*)"
   ]
  },
  {
   "cell_type": "markdown",
   "metadata": {},
   "source": [
    "The meaning of the different fields is decribed in the [HDF5 File Format Specification](https://www.hdfgroup.org/HDF5/doc/H5.format.html).\n",
    "\n",
    "18,446,744,073,709,551,615 is the *undefined address* $2^{64}-1$.\n",
    "\n",
    "This is a version 0 superblock. In the next section, we'll look at  a version 2 superblock.\n",
    "\n",
    ">Version 0 is the default format, while version 1 is basically the same as version 0 with additional information when a non-default B-tree 'K' value is stored. Version 2 is the latest format, with some fields eliminated or compressed and with superblock extension and checksum support."
   ]
  },
  {
   "cell_type": "code",
   "execution_count": null,
   "metadata": {
    "collapsed": false
   },
   "outputs": [],
   "source": [
    "(close *input-stream*)"
   ]
  },
  {
   "cell_type": "markdown",
   "metadata": {},
   "source": [
    "#### Superblock Version 2"
   ]
  },
  {
   "cell_type": "code",
   "execution_count": null,
   "metadata": {
    "collapsed": false
   },
   "outputs": [],
   "source": [
    "(setf *file-name* \"superblock.v2.h5\")"
   ]
  },
  {
   "cell_type": "markdown",
   "metadata": {},
   "source": [
    "We create an HDF5 file with a version 2 superblock by specifying a non-default *file access property list*, which instructs the library to use the latest version for creating objects in the file."
   ]
  },
  {
   "cell_type": "code",
   "execution_count": null,
   "metadata": {
    "collapsed": false
   },
   "outputs": [],
   "source": [
    "(let ((fapl (h5pcreate +H5P-FILE-ACCESS+)))\n",
    "     (h5pset-libver-bounds fapl :H5F-LIBVER-LATEST :H5F-LIBVER-LATEST)\n",
    "     (h5fclose (h5fcreate *file-name* +H5F-ACC-TRUNC+ +H5P-DEFAULT+ fapl))\n",
    "     (h5pclose fapl))"
   ]
  },
  {
   "cell_type": "markdown",
   "metadata": {},
   "source": [
    "We read the superblock from a file stream as we did previously."
   ]
  },
  {
   "cell_type": "code",
   "execution_count": null,
   "metadata": {
    "collapsed": false
   },
   "outputs": [],
   "source": [
    "(setf *input-stream* (open *file-name* :direction :input :element-type '(unsigned-byte 8)))"
   ]
  },
  {
   "cell_type": "code",
   "execution_count": null,
   "metadata": {
    "collapsed": false
   },
   "outputs": [],
   "source": [
    "(read-superblock *input-stream*)"
   ]
  },
  {
   "cell_type": "markdown",
   "metadata": {},
   "source": [
    "The version 2 superblock appears a little more clearly arranged. The main new ingredient is the superblock checksum.\n",
    "\n",
    ">All checksums used in the format are computed with the [Jenkins’ lookup](http://www.burtleburtle.net/bob/hash/doobs.html) algorithm."
   ]
  },
  {
   "cell_type": "code",
   "execution_count": null,
   "metadata": {
    "collapsed": false
   },
   "outputs": [],
   "source": [
    "(close *input-stream*)"
   ]
  }
 ],
 "metadata": {
  "kernelspec": {
   "display_name": "SBCL Lisp",
   "language": "lisp",
   "name": "lisp"
  },
  "language_info": {
   "codemirror_mode": "text/x-common-lisp",
   "mimetype": "text/x-common-lisp",
   "name": "common-lisp",
   "pygments_lexer": "common-lisp",
   "version": "X3J13"
  }
 },
 "nbformat": 4,
 "nbformat_minor": 0
}
