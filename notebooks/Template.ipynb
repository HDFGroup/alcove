{
 "cells": [
  {
   "cell_type": "markdown",
   "metadata": {},
   "source": [
    "<table style=\"border: none; border-collapse: collapse;\" border=\"0\" cellspacing=\"0\" cellpadding=\"0\" width=\"100%\" align=\"center\">\n",
    "<tr style=\"border: none;\">\n",
    "<td  style=\"border: none;\" width=\"20%\">Brought to you by <h3>the dynamic trio</h3></td>\n",
    "<td style=\"border: none;\"><a href=\"https://github.com/fredokun/cl-jupyter\"><img src=\"http://jupyter.org/assets/nav_logo.svg\" alt=\"Project Jupyter\" height=\"128\"></a></td>\n",
    "<td style=\"border: none;\"><a href=\"http://clhs.lisp.se/\"><img src=\"http://www.lisperati.com/lisplogo_fancy_128.png\" alt=\"Public Domain Lisp Logo Set By Conrad Barski, M.D.\" height=\"128\"></a></td><td style=\"border: none;\"><a href=\"https://www.hdfgroup.org/\"><img src=\"https://www.hdfgroup.org/images/hdf_logo.jpg\" alt=\"The HDF Group\" height=\"128\"></a></td></tr>\n",
    "</table>"
   ]
  },
  {
   "cell_type": "code",
   "execution_count": null,
   "metadata": {
    "collapsed": false
   },
   "outputs": [],
   "source": [
    "(require 'asdf)"
   ]
  },
  {
   "cell_type": "code",
   "execution_count": null,
   "metadata": {
    "collapsed": false
   },
   "outputs": [],
   "source": [
    "(require 'hdf5-cffi)"
   ]
  },
  {
   "cell_type": "code",
   "execution_count": null,
   "metadata": {
    "collapsed": false
   },
   "outputs": [],
   "source": [
    "(use-package \"HDF5\")"
   ]
  },
  {
   "cell_type": "code",
   "execution_count": null,
   "metadata": {
    "collapsed": false
   },
   "outputs": [],
   "source": [
    "(require 'alcove)"
   ]
  },
  {
   "cell_type": "code",
   "execution_count": null,
   "metadata": {
    "collapsed": false
   },
   "outputs": [],
   "source": [
    "(use-package \"ALCOVE\")"
   ]
  },
  {
   "cell_type": "code",
   "execution_count": null,
   "metadata": {
    "collapsed": true
   },
   "outputs": [],
   "source": [
    "; This could be the start of a beautiful notebook!"
   ]
  }
 ],
 "metadata": {
  "kernelspec": {
   "display_name": "SBCL Lisp",
   "language": "lisp",
   "name": "lisp"
  },
  "language_info": {
   "codemirror_mode": "text/x-common-lisp",
   "mimetype": "text/x-common-lisp",
   "name": "common-lisp",
   "pygments_lexer": "common-lisp",
   "version": "X3J13"
  }
 },
 "nbformat": 4,
 "nbformat_minor": 0
}
