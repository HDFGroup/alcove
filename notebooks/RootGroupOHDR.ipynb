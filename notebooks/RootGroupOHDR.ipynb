{
 "cells": [
  {
   "cell_type": "markdown",
   "metadata": {},
   "source": [
    "<table style=\"border: none; border-collapse: collapse;\" border=\"0\" cellspacing=\"0\" cellpadding=\"0\" width=\"100%\" align=\"center\">\n",
    "<tr style=\"border: none;\">\n",
    "<td  style=\"border: none;\" width=\"20%\">Brought to you by <h3>the dynamic trio</h3></td>\n",
    "<td style=\"border: none;\"><a href=\"https://github.com/fredokun/cl-jupyter\"><img src=\"http://jupyter.org/assets/nav_logo.svg\" alt=\"Project Jupyter\" height=\"128\"></a></td>\n",
    "<td style=\"border: none;\"><a href=\"http://clhs.lisp.se/\"><img src=\"http://www.lisperati.com/lisplogo_fancy_128.png\" alt=\"Public Domain Lisp Logo Set By Conrad Barski, M.D.\" height=\"128\"></a></td><td style=\"border: none;\"><a href=\"https://www.hdfgroup.org/\"><img src=\"https://www.hdfgroup.org/images/hdf_logo.jpg\" alt=\"The HDF Group\" height=\"128\"></a></td></tr>\n",
    "</table>"
   ]
  },
  {
   "cell_type": "markdown",
   "metadata": {
    "collapsed": false
   },
   "source": [
    "# Reading the Root Group's Object Header\n",
    "\n",
    "The primitives defined in the [HDF5 File Format Specification](https://www.hdfgroup.org/HDF5/doc/H5.format.html) are organized into three levels.\n",
    "\n",
    "> Level 0 contains basic information for identifying and defining information about the file. Level 1 information contains the information about the pieces of a file shared by many objects in the file (such as a B-trees and heaps). Level 2 is the rest of the file and contains all of the data objects, with each object partitioned into header information, also known as *metadata*, and data.\n",
    "\n",
    "In this installment, we skip level 1, and get a preview of a level 2 primitve. The superblock (level 0) contains the address of the root group's [*object header*](https://www.hdfgroup.org/HDF5/doc/H5.format.html#DataObject) (OHDR). What appears from the perspective of the HDF5 library as a collection of links, is represented in the file as a conglomerate of [*object header messages*](https://www.hdfgroup.org/HDF5/doc/H5.format.html#ObjectHeaderMessages) and supporting level 1 primitives. There are about two dozen types of messages, which make up the \"vocabulary\" of an \"object description language.\" Not all message combinations are grammatically correct, for example, an object header in which a [Group Info Message](https://www.hdfgroup.org/HDF5/doc/H5.format.html#GroupInfoMessage) were followed by a [Dataspace Message](https://www.hdfgroup.org/HDF5/doc/H5.format.html#DataspaceMessage) would be as nonsensical as *Quadruplicity drinks procrastination.* (B. Russell)\n",
    "\n",
    "We go through the usual motions to create a simple test file:"
   ]
  },
  {
   "cell_type": "code",
   "execution_count": 1,
   "metadata": {
    "collapsed": false
   },
   "outputs": [
    {
     "data": {
      "text/plain": [
       "NIL"
      ]
     },
     "execution_count": 1,
     "metadata": {},
     "output_type": "execute_result"
    }
   ],
   "source": [
    "(defparameter *file-name* \"root-ohdr.h5\")\n",
    "(let ((fcpl (h5pcreate +H5P-FILE-CREATE+)))\n",
    "     (h5pset-userblock fcpl (cffi:convert-to-foreign 524288 'hsize-t))\n",
    "     (h5fclose (h5fcreate *file-name* +H5F-ACC-TRUNC+ fcpl +H5P-DEFAULT+))\n",
    "     (h5pclose fcpl))\n",
    "(defparameter *input-stream*\n",
    "    (open *file-name* :direction :input :element-type '(unsigned-byte 8)))\n",
    "(defparameter *file* (make-file *file-name*))\n",
    "(add-superblock *input-stream* *file*)\n",
    "(values)"
   ]
  },
  {
   "cell_type": "markdown",
   "metadata": {},
   "source": [
    "The address of the root group's object header is stored in the file superblock."
   ]
  },
  {
   "cell_type": "code",
   "execution_count": 2,
   "metadata": {
    "collapsed": false
   },
   "outputs": [
    {
     "data": {
      "text/plain": [
       "524384"
      ]
     },
     "execution_count": 2,
     "metadata": {},
     "output_type": "execute_result"
    }
   ],
   "source": [
    "(get-root-ohdr-address *file*)"
   ]
  },
  {
   "cell_type": "markdown",
   "metadata": {},
   "source": [
    "Except for the role of being the *origin* or base node of an HDF5 multi-graph, there is nothing special about the root group. It's an HDF5 group. In the `alcove` package, we have defined a simple function, `READ-OHDR`, for reading HDF5 object headers."
   ]
  },
  {
   "cell_type": "code",
   "execution_count": 3,
   "metadata": {
    "collapsed": false
   },
   "outputs": [
    {
     "data": {
      "text/plain": [
       "\"--------------------------------------------------------------[function-doc]\n",
       "READ-OHDR\n",
       "Args: (INPUT-STREAM ADDRESS FILE)\n",
       "Read an object header (OHDR) from INPUT-STREAM at ADDRESS.\n",
       "Return an association list.\n",
       "------------------------------------------------------------------------------\""
      ]
     },
     "execution_count": 3,
     "metadata": {},
     "output_type": "execute_result"
    }
   ],
   "source": [
    "(documentation 'read-ohdr 'function)"
   ]
  },
  {
   "cell_type": "code",
   "execution_count": 4,
   "metadata": {
    "collapsed": false
   },
   "outputs": [
    {
     "name": "stdout",
     "output_type": "stream",
     "text": [
      "(OHDR-VERSION . 1)\n",
      "(MESSAGE-COUNT . 1)\n",
      "(REFERENCE-COUNT . 1)\n",
      "(HEADER-SIZE . 24)\n",
      "(MESSAGES\n",
      "  ((MSG-TYPE . 17) (MSG-DATA-SIZE . 16) (MSG-FLAGS . 0)\n",
      "   (MSG-DATA (NAME . Symbol Table) (V1-B-TREE-ADDRESS . 136)\n",
      "    (LOCAL-HEAP-ADDRESS . 680))))\n"
     ]
    },
    {
     "data": {
      "text/plain": [
       "NIL"
      ]
     },
     "execution_count": 4,
     "metadata": {},
     "output_type": "execute_result"
    }
   ],
   "source": [
    "(loop for x in (read-ohdr *input-stream* (get-root-ohdr-address *file*) *file*)\n",
    "   do (format t \"~a~%\" x))"
   ]
  },
  {
   "cell_type": "markdown",
   "metadata": {},
   "source": [
    "As most other primitives in the HDF5 file format, the object header is versioned. There's only one message stored in this particular object header, and the HDF5 object has a reference count of 1. The message is a [Symbol Table Message](https://www.hdfgroup.org/HDF5/doc/H5.format.html#SymbolTableMessage), which tells us that the corresponding HDF5 object is indeed an (old-style) HDF5 group. Information about the links in the group is stored in two places: A B-tree manages references to link names and descriptions of link destinations, and the actual names and descriptions are stored on a local heap. We'll dig into reading those items in the next installment."
   ]
  },
  {
   "cell_type": "code",
   "execution_count": 5,
   "metadata": {
    "collapsed": false
   },
   "outputs": [
    {
     "data": {
      "text/plain": [
       "T"
      ]
     },
     "execution_count": 5,
     "metadata": {},
     "output_type": "execute_result"
    }
   ],
   "source": [
    "(close *input-stream*)"
   ]
  },
  {
   "cell_type": "markdown",
   "metadata": {},
   "source": [
    "### The Root Group's Object Header Version 2\n",
    "\n",
    "Let's take a look at the object header of a \"newer style\" HDF5 group."
   ]
  },
  {
   "cell_type": "code",
   "execution_count": 6,
   "metadata": {
    "collapsed": false
   },
   "outputs": [
    {
     "data": {
      "text/plain": [
       "NIL"
      ]
     },
     "execution_count": 6,
     "metadata": {},
     "output_type": "execute_result"
    }
   ],
   "source": [
    "(setq *file-name* \"root-ohdr.v2.h5\")\n",
    "(let ((fapl (h5pcreate +H5P-FILE-ACCESS+))\n",
    "      (fcpl (h5pcreate +H5P-FILE-CREATE+)))\n",
    "  (h5pset-libver-bounds fapl :H5F-LIBVER-LATEST :H5F-LIBVER-LATEST)\n",
    "  (h5pset-userblock fcpl (cffi:convert-to-foreign 1024 'hsize-t))\n",
    "  (h5fclose (h5fcreate *file-name* +H5F-ACC-TRUNC+ fcpl fapl))\n",
    "  (h5pclose fcpl)\n",
    "  (h5pclose fapl))\n",
    "(setq *input-stream*\n",
    "      (open *file-name* :direction :input :element-type '(unsigned-byte 8)))\n",
    "(setq *file* (make-file *file-name*))\n",
    "(add-superblock *input-stream* *file*)\n",
    "(values)"
   ]
  },
  {
   "cell_type": "code",
   "execution_count": 7,
   "metadata": {
    "collapsed": false
   },
   "outputs": [
    {
     "name": "stdout",
     "output_type": "stream",
     "text": [
      "(SIGNATURE . OHDR)\n",
      "(OHDR-VERSION . 2)\n",
      "(FLAGS . 32)\n",
      "(ACCESS-TIME . 1457828958)\n",
      "(MODIFICATION-TIME . 1457828958)\n",
      "(CHANGE-TIME . 1457828958)\n",
      "(BIRTH-TIME . 1457828958)\n",
      "(SIZE-OF-CHUNK0 . 120)\n",
      "(MESSAGES\n",
      "  ((MSG-TYPE . 0) (MSG-DATA-SIZE . 88) (MSG-FLAGS . 0)\n",
      "   (MSG-DATA (NAME . NIL)\n",
      "    (DATA\n",
      "     . #(0 0 0 0 0 0 0 0 0 0 0 0 0 0 0 0 0 0 0 0 0 0 0 0 0 0 0 0 0 0 0 0 0 0 0\n",
      "         0 0 0 0 0 0 0 0 0 0 0 0 0 0 0 0 0 0 0 0 0 0 0 0 0 0 0 0 0 0 0 0 0 0 0\n",
      "         0 0 0 0 0 0 0 0 0 0 0 0 0 0 0 0 0 0))))\n",
      "  ((MSG-TYPE . 10) (MSG-DATA-SIZE . 2) (MSG-FLAGS . 1)\n",
      "   (MSG-DATA (NAME . Group Info) (VERSION . 0) (FLAGS . 0)))\n",
      "  ((MSG-TYPE . 2) (MSG-DATA-SIZE . 18) (MSG-FLAGS . 0)\n",
      "   (MSG-DATA (NAME . Link Info) (VERSION . 0) (FLAGS . 0)\n",
      "    (FRACTAL-HEAP-ADDRESS . 18446744073709551615)\n",
      "    (NAME-INDEX-V2-B-TREE-ADDRESS . 18446744073709551615))))\n",
      "(CHECKSUM . #(215 128 248 180))\n"
     ]
    },
    {
     "data": {
      "text/plain": [
       "NIL"
      ]
     },
     "execution_count": 7,
     "metadata": {},
     "output_type": "execute_result"
    }
   ],
   "source": [
    "(loop for x in (read-ohdr *input-stream* (get-root-ohdr-address *file*) *file*)\n",
    "   do (format t \"~a~%\" x))"
   ]
  },
  {
   "cell_type": "markdown",
   "metadata": {},
   "source": [
    "There's a lot more going on in a [version 2 object header](https://www.hdfgroup.org/HDF5/doc/H5.format.html#V2ObjectHeaderPrefix)! This version saw the introduction of the following:\n",
    "\n",
    "- a signature\n",
    "- time stamps\n",
    "- the support for arbitrarily large attributes\n",
    "- facilities for the tracking and indexing of attributes by creation time\n",
    "- an object header checksum\n",
    "\n",
    "In this particular case, the time stamps are stored, as is confirmed by a flag value of 32 (bit 5 is set). There are three messages stored in this object header.\n",
    "\n",
    "1. The [NIL Message](https://www.hdfgroup.org/HDF5/doc/H5.format.html#NILMessage) can be ignored (and has nothing to do with the Common Lisp constant `NIL`). \n",
    "2. The [Group Info Message](https://www.hdfgroup.org/HDF5/doc/H5.format.html#GroupInfoMessage) confirms that we are dealing with a \"new style\" HDF5 group.\n",
    "3. The [Link Info Message](https://www.hdfgroup.org/HDF5/doc/H5.format.html#LinkInfoMessage) stores references to variable size information about the group. In this particular example, there are no links in the group. We'll read that variable information in a future installment."
   ]
  },
  {
   "cell_type": "code",
   "execution_count": 8,
   "metadata": {
    "collapsed": false
   },
   "outputs": [
    {
     "data": {
      "text/plain": [
       "T"
      ]
     },
     "execution_count": 8,
     "metadata": {},
     "output_type": "execute_result"
    }
   ],
   "source": [
    "(close *input-stream*)"
   ]
  }
 ],
 "metadata": {
  "kernelspec": {
   "display_name": "SBCL Lisp",
   "language": "lisp",
   "name": "lisp"
  },
  "language_info": {
   "codemirror_mode": "text/x-common-lisp",
   "mimetype": "text/x-common-lisp",
   "name": "common-lisp",
   "pygments_lexer": "common-lisp",
   "version": "X3J13"
  }
 },
 "nbformat": 4,
 "nbformat_minor": 0
}
