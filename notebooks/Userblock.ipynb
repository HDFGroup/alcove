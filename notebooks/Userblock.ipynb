{
 "cells": [
  {
   "cell_type": "markdown",
   "metadata": {},
   "source": [
    "<table style=\"border: none; border-collapse: collapse;\" border=\"0\" cellspacing=\"0\" cellpadding=\"0\" width=\"100%\" align=\"center\">\n",
    "<tr style=\"border: none;\">\n",
    "<td  style=\"border: none;\" width=\"20%\">Brought to you by <h3>the dynamic trio</h3></td>\n",
    "<td style=\"border: none;\"><a href=\"https://github.com/fredokun/cl-jupyter\"><img src=\"http://jupyter.org/assets/nav_logo.svg\" alt=\"Project Jupyter\" height=\"128\"></a></td>\n",
    "<td style=\"border: none;\"><a href=\"http://clhs.lisp.se/\"><img src=\"http://www.lisperati.com/lisplogo_fancy_128.png\" alt=\"Public Domain Lisp Logo Set By Conrad Barski, M.D.\" height=\"128\"></a></td><td style=\"border: none;\"><a href=\"https://www.hdfgroup.org/\"><img src=\"https://www.hdfgroup.org/images/hdf_logo.jpg\" alt=\"The HDF Group\" height=\"128\"></a></td></tr>\n",
    "</table>"
   ]
  },
  {
   "cell_type": "code",
   "execution_count": null,
   "metadata": {
    "collapsed": false
   },
   "outputs": [],
   "source": [
    "(require 'asdf)"
   ]
  },
  {
   "cell_type": "code",
   "execution_count": null,
   "metadata": {
    "collapsed": false
   },
   "outputs": [],
   "source": [
    "(require 'hdf5-cffi)"
   ]
  },
  {
   "cell_type": "code",
   "execution_count": null,
   "metadata": {
    "collapsed": false
   },
   "outputs": [],
   "source": [
    "(use-package \"HDF5\")"
   ]
  },
  {
   "cell_type": "code",
   "execution_count": null,
   "metadata": {
    "collapsed": false
   },
   "outputs": [],
   "source": [
    "(require 'alcove)"
   ]
  },
  {
   "cell_type": "code",
   "execution_count": null,
   "metadata": {
    "collapsed": false
   },
   "outputs": [],
   "source": [
    "(use-package \"ALCOVE\")"
   ]
  },
  {
   "cell_type": "markdown",
   "metadata": {},
   "source": [
    "# An HDF5 file with a user block\n",
    "\n",
    "The [HDF5 file format specification](https://www.hdfgroup.org/HDF5/doc/H5.format.html) informs us that the superblock might not be at the beginning of an HDF5 file, but elsewhere in the file.\n",
    "\n",
    ">The superblock may begin at certain predefined offsets within the HDF5 file, allowing a block of unspecified content for users to place additional information at the beginning (and end) of the HDF5 file without limiting the HDF5 Library’s ability to manage the objects within the file itself. This feature was designed to accommodate wrapping an HDF5 file in another file format or adding descriptive information to an HDF5 file without requiring the modification of the actual file’s information. The superblock is located by searching for the HDF5 format signature at byte offset 0, byte offset 512, and at successive locations in the file, each a multiple of two of the previous location; in other words, at these byte offsets: 0, 512, 1024, 2048, and so on.\n",
    "\n",
    "Let's create an HDF5 file with a userblock of 512 kilobytes (= 524,288 bytes)! All we need is an appropriate [file creation property list](https://www.hdfgroup.org/HDF5/doc/RM/RM_H5P.html#Property-SetUserblock)."
   ]
  },
  {
   "cell_type": "code",
   "execution_count": null,
   "metadata": {
    "collapsed": false
   },
   "outputs": [],
   "source": [
    "(defparameter *file-name* \"userblock.h5\")"
   ]
  },
  {
   "cell_type": "code",
   "execution_count": null,
   "metadata": {
    "collapsed": false
   },
   "outputs": [],
   "source": [
    "(let ((fcpl (h5pcreate +H5P-FILE-CREATE+)))\n",
    "     (h5pset-userblock fcpl (cffi:convert-to-foreign 524288 'hsize-t))\n",
    "     (h5fclose (h5fcreate *file-name* +H5F-ACC-TRUNC+ fcpl +H5P-DEFAULT+))  ; create and close the file\n",
    "     (h5pclose fcpl))"
   ]
  },
  {
   "cell_type": "markdown",
   "metadata": {},
   "source": [
    "Let's find the file format signature and read the superblock!"
   ]
  },
  {
   "cell_type": "code",
   "execution_count": null,
   "metadata": {
    "collapsed": false
   },
   "outputs": [],
   "source": [
    "(defparameter *input-stream*\n",
    "    (open *file-name* :direction :input :element-type '(unsigned-byte 8)))"
   ]
  },
  {
   "cell_type": "code",
   "execution_count": null,
   "metadata": {
    "collapsed": false
   },
   "outputs": [],
   "source": [
    "(documentation 'find-format-signature 'function)"
   ]
  },
  {
   "cell_type": "markdown",
   "metadata": {},
   "source": [
    "The function ``FIND-FORMAT-SIGNATURE`` is implemented as a simple recursion:\n",
    "\n",
    "```lisp\n",
    "(defun find-format-signature (input-stream\n",
    "                              &optional (max-offset\n",
    "                                         (file-length input-stream)))\n",
    "  (assert (file-position input-stream 0))\n",
    "  ;; define a helper function to recursively look for the signature\n",
    "  (labels ((find-it (in-stream offset)\n",
    "             (let ((buffer (make-array 8 :element-type 'unsigned-byte))\n",
    "                   (offset (file-position input-stream)))\n",
    "               (when (and offset\n",
    "                          (< (+ offset 8) max-offset)\n",
    "                          (read-sequence buffer input-stream))\n",
    "                 (if (every #'= +hdf5-signature+ buffer)\n",
    "                     offset\n",
    "                     (when (and (setq offset (if (< 0 offset)\n",
    "                                                 (* 2 offset)\n",
    "                                                 512))\n",
    "                                (< offset max-offset)\n",
    "                                (file-position input-stream offset))\n",
    "                       (find-it input-stream max-offset)))))))\n",
    "    (find-it input-stream max-offset)))\n",
    "```"
   ]
  },
  {
   "cell_type": "code",
   "execution_count": null,
   "metadata": {
    "collapsed": false
   },
   "outputs": [],
   "source": [
    "(find-format-signature *input-stream*)"
   ]
  },
  {
   "cell_type": "code",
   "execution_count": null,
   "metadata": {
    "collapsed": false
   },
   "outputs": [],
   "source": [
    "(read-superblock *input-stream*)"
   ]
  },
  {
   "cell_type": "markdown",
   "metadata": {},
   "source": [
    "(Remember that 18,446,744,073,709,551,615 is the *undefined address* $2^{64}-1$ ?)\n",
    "\n",
    "Notice the ``BASE-ADDRESS`` is 524,288 (instead of 0).\n",
    "\n",
    ">Unless otherwise noted, all other file addresses are relative to this base address.\n",
    "\n",
    "That means the root group's object header is not at offset 96, but at 524,384 (= 524,288 + 96)."
   ]
  },
  {
   "cell_type": "code",
   "execution_count": null,
   "metadata": {
    "collapsed": false
   },
   "outputs": [],
   "source": [
    "(close *input-stream*)"
   ]
  },
  {
   "cell_type": "markdown",
   "metadata": {},
   "source": [
    "In the next installment, we'll read that object header."
   ]
  }
 ],
 "metadata": {
  "kernelspec": {
   "display_name": "SBCL Lisp",
   "language": "lisp",
   "name": "lisp"
  },
  "language_info": {
   "codemirror_mode": "text/x-common-lisp",
   "mimetype": "text/x-common-lisp",
   "name": "common-lisp",
   "pygments_lexer": "common-lisp",
   "version": "X3J13"
  }
 },
 "nbformat": 4,
 "nbformat_minor": 0
}
